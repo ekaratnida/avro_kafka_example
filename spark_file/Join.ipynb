{
 "cells": [
  {
   "cell_type": "code",
   "execution_count": 1,
   "id": "ed9e7015-1318-493c-900f-4b93e4861056",
   "metadata": {},
   "outputs": [],
   "source": [
    "import os\n",
    "os.environ['PYSPARK_SUBMIT_ARGS'] = '--packages org.apache.spark:spark-streaming-kafka-0-10_2.12:3.1.3,org.apache.spark:spark-sql-kafka-0-10_2.12:3.3.1 pyspark-shell'"
   ]
  },
  {
   "cell_type": "code",
   "execution_count": 2,
   "id": "13458481-3769-430f-97c9-7b45222355d2",
   "metadata": {},
   "outputs": [],
   "source": [
    "from pyspark.sql import SparkSession\n",
    "from pyspark.sql.functions import *\n",
    "from pyspark.sql.types import *\n",
    "spark = SparkSession.builder.appName('sparkdf').getOrCreate()"
   ]
  },
  {
   "cell_type": "code",
   "execution_count": 3,
   "id": "d3afe142-4e08-402b-9a45-f5de38839f32",
   "metadata": {},
   "outputs": [],
   "source": [
    "# Create the first dataframe\n",
    "df1 = spark.createDataFrame([\n",
    "    (\"A\", 1), \n",
    "    (\"B\", 2), \n",
    "    (\"C\", 3)], [\"letter\", \"number\"])\n",
    "\n",
    "# Create the second dataframe\n",
    "df2 = spark.createDataFrame([\n",
    "    (\"A\", 4), \n",
    "    (\"B\", 5), \n",
    "    (\"D\", 6)], [\"letter\", \"value\"])"
   ]
  },
  {
   "cell_type": "markdown",
   "id": "cf84bdea-6e9f-4d88-948b-04b9ccd4f910",
   "metadata": {},
   "source": [
    "## 1. Inner join"
   ]
  },
  {
   "cell_type": "code",
   "execution_count": 4,
   "id": "2da79875-8387-4b96-9bf4-c53f314a4218",
   "metadata": {},
   "outputs": [
    {
     "name": "stdout",
     "output_type": "stream",
     "text": [
      "+------+------+------+-----+\n",
      "|letter|number|letter|value|\n",
      "+------+------+------+-----+\n",
      "|     A|     1|     A|    4|\n",
      "|     B|     2|     B|    5|\n",
      "+------+------+------+-----+\n",
      "\n"
     ]
    }
   ],
   "source": [
    "# Perform the inner join\n",
    "inner_join = df1.join(df2, df1['letter'] == df2['letter'], \"inner\")\n",
    "\n",
    "# Show the result of the join\n",
    "inner_join.show()"
   ]
  },
  {
   "cell_type": "markdown",
   "id": "5a7c4721-e2ba-49ef-a1b6-a7de2128aaa4",
   "metadata": {},
   "source": [
    "## 2. Left outer join"
   ]
  },
  {
   "cell_type": "code",
   "execution_count": 5,
   "id": "fa0cec0f-2225-40b8-8a3d-60a4a230961e",
   "metadata": {},
   "outputs": [
    {
     "name": "stdout",
     "output_type": "stream",
     "text": [
      "+------+------+------+-----+\n",
      "|letter|number|letter|value|\n",
      "+------+------+------+-----+\n",
      "|     A|     1|     A|    4|\n",
      "|     B|     2|     B|    5|\n",
      "|     C|     3|  NULL| NULL|\n",
      "+------+------+------+-----+\n",
      "\n"
     ]
    }
   ],
   "source": [
    "\n",
    "left_outer_join = df1.join(df2, df1['letter'] == df2['letter'], \"left_outer\")\n",
    "# Show the result of the join\n",
    "left_outer_join.show()"
   ]
  },
  {
   "cell_type": "markdown",
   "id": "e28efce9-c690-41b2-8d1a-762ad8fe7b54",
   "metadata": {},
   "source": [
    "## 3. Right outer join"
   ]
  },
  {
   "cell_type": "code",
   "execution_count": 6,
   "id": "b22d7494-1dc2-4dc4-85df-90bc46a4b7bd",
   "metadata": {},
   "outputs": [
    {
     "name": "stdout",
     "output_type": "stream",
     "text": [
      "+------+------+------+-----+\n",
      "|letter|number|letter|value|\n",
      "+------+------+------+-----+\n",
      "|     A|     1|     A|    4|\n",
      "|     B|     2|     B|    5|\n",
      "|  NULL|  NULL|     D|    6|\n",
      "+------+------+------+-----+\n",
      "\n"
     ]
    }
   ],
   "source": [
    "# Perform the right outer join\n",
    "right_outer_join = df1.join(df2, df1['letter'] == df2['letter'], \"right_outer\")\n",
    "# Show the result of the join\n",
    "right_outer_join.show()"
   ]
  },
  {
   "cell_type": "markdown",
   "id": "59a47e98-56b0-4253-a9e0-85af4671ed54",
   "metadata": {},
   "source": [
    "## 4. Full outer join"
   ]
  },
  {
   "cell_type": "code",
   "execution_count": 7,
   "id": "d166ed44-cdf4-4986-b290-ffdc5bb96284",
   "metadata": {},
   "outputs": [
    {
     "name": "stdout",
     "output_type": "stream",
     "text": [
      "+------+------+------+-----+\n",
      "|letter|number|letter|value|\n",
      "+------+------+------+-----+\n",
      "|     A|     1|     A|    4|\n",
      "|     B|     2|     B|    5|\n",
      "|     C|     3|  NULL| NULL|\n",
      "|  NULL|  NULL|     D|    6|\n",
      "+------+------+------+-----+\n",
      "\n"
     ]
    }
   ],
   "source": [
    "# Perform the full outer join\n",
    "full_outer_join = df1.join(df2, df1['letter'] == df2['letter'], \"full_outer\")\n",
    "# Show the result of the join\n",
    "full_outer_join.show()"
   ]
  },
  {
   "cell_type": "markdown",
   "id": "fa36c2ae-f7fc-4c45-8cc4-38e956040705",
   "metadata": {},
   "source": [
    "## 5. Cross join"
   ]
  },
  {
   "cell_type": "code",
   "execution_count": 8,
   "id": "e25934ad-c31f-47a1-a0d0-762986245102",
   "metadata": {},
   "outputs": [
    {
     "name": "stdout",
     "output_type": "stream",
     "text": [
      "+------+------+------+-----+\n",
      "|letter|number|letter|value|\n",
      "+------+------+------+-----+\n",
      "|     A|     1|     A|    4|\n",
      "|     A|     1|     B|    5|\n",
      "|     A|     1|     D|    6|\n",
      "|     B|     2|     A|    4|\n",
      "|     B|     2|     B|    5|\n",
      "|     B|     2|     D|    6|\n",
      "|     C|     3|     A|    4|\n",
      "|     C|     3|     B|    5|\n",
      "|     C|     3|     D|    6|\n",
      "+------+------+------+-----+\n",
      "\n"
     ]
    }
   ],
   "source": [
    "# Perform the cross join\n",
    "cross_join = df1.crossJoin(df2)\n",
    "# Show the result of the join\n",
    "cross_join.show()"
   ]
  },
  {
   "cell_type": "markdown",
   "id": "64f7f54c-9e96-40ed-874d-713e50da4d6b",
   "metadata": {},
   "source": [
    "## 6. Left Anti Join"
   ]
  },
  {
   "cell_type": "code",
   "execution_count": 9,
   "id": "4fb5998f-753d-4a43-9dfb-ae8917998cf2",
   "metadata": {},
   "outputs": [
    {
     "name": "stdout",
     "output_type": "stream",
     "text": [
      "+------+------+\n",
      "|letter|number|\n",
      "+------+------+\n",
      "|     C|     3|\n",
      "+------+------+\n",
      "\n"
     ]
    }
   ],
   "source": [
    "# Perform the left anti join\n",
    "left_anti_join = df1.join(df2, df1['letter'] == df2['letter'], \"left_anti\")\n",
    "# Show the result of the join\n",
    "left_anti_join.show()"
   ]
  },
  {
   "cell_type": "markdown",
   "id": "aa5cc1f6-1537-4d59-be41-6ebd03d03ed0",
   "metadata": {},
   "source": [
    "## 7. Left Semi Join"
   ]
  },
  {
   "cell_type": "code",
   "execution_count": 10,
   "id": "bdadc9c2-55bf-444c-9b88-6389a5f78872",
   "metadata": {},
   "outputs": [
    {
     "name": "stdout",
     "output_type": "stream",
     "text": [
      "+------+------+\n",
      "|letter|number|\n",
      "+------+------+\n",
      "|     A|     1|\n",
      "|     B|     2|\n",
      "+------+------+\n",
      "\n"
     ]
    }
   ],
   "source": [
    "# Perform the left semi join\n",
    "left_semi_join = df1.join(df2, df1['letter'] == df2['letter'], \"leftsemi\")\n",
    "# Show the result of the join\n",
    "left_semi_join.show()"
   ]
  },
  {
   "cell_type": "markdown",
   "id": "96adaafd-5d3c-4dea-8c5a-ecd747ac8020",
   "metadata": {},
   "source": [
    "## 8. Self Join"
   ]
  },
  {
   "cell_type": "code",
   "execution_count": 11,
   "id": "e436dfea-0a38-48de-9131-89a66867cba4",
   "metadata": {},
   "outputs": [
    {
     "name": "stdout",
     "output_type": "stream",
     "text": [
      "+------+------+------+------+\n",
      "|letter|number|letter|number|\n",
      "+------+------+------+------+\n",
      "|     A|     1|     A|     1|\n",
      "|     B|     2|     B|     2|\n",
      "|     C|     3|     C|     3|\n",
      "+------+------+------+------+\n",
      "\n"
     ]
    }
   ],
   "source": [
    "# Perform the self join\n",
    "self_join = df1.join(df1.alias(\"df2\"), df1[\"letter\"] == df1[\"letter\"])\n",
    "# Show the result of the join\n",
    "self_join.show()"
   ]
  },
  {
   "cell_type": "code",
   "execution_count": 12,
   "id": "05ad7764-6f66-4689-a1b5-b60291b8d712",
   "metadata": {},
   "outputs": [],
   "source": [
    "impressions = (\n",
    "  spark\n",
    "    .readStream.format(\"rate\").option(\"rowsPerSecond\", \"5\").option(\"numPartitions\", \"1\").load()\n",
    "    .selectExpr(\"value AS adId\", \"timestamp AS impressionTime\")\n",
    ")"
   ]
  },
  {
   "cell_type": "code",
   "execution_count": 13,
   "id": "3395f740-ef71-4803-b3e2-adf0b4b30425",
   "metadata": {},
   "outputs": [
    {
     "data": {
      "text/plain": [
       "DataFrame[adId: bigint, impressionTime: timestamp]"
      ]
     },
     "metadata": {},
     "output_type": "display_data"
    }
   ],
   "source": [
    "display(impressions)"
   ]
  },
  {
   "cell_type": "code",
   "execution_count": null,
   "id": "dd98315e-c39c-44d1-835e-06b44674aa54",
   "metadata": {},
   "outputs": [],
   "source": []
  }
 ],
 "metadata": {
  "kernelspec": {
   "display_name": "Python 3 (ipykernel)",
   "language": "python",
   "name": "python3"
  },
  "language_info": {
   "codemirror_mode": {
    "name": "ipython",
    "version": 3
   },
   "file_extension": ".py",
   "mimetype": "text/x-python",
   "name": "python",
   "nbconvert_exporter": "python",
   "pygments_lexer": "ipython3",
   "version": "3.11.6"
  }
 },
 "nbformat": 4,
 "nbformat_minor": 5
}
