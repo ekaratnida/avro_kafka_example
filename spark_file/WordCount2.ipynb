{
 "cells": [
  {
   "cell_type": "code",
   "execution_count": 1,
   "id": "53d1b93f-b9f9-40f2-9a4f-f5d5afdc591b",
   "metadata": {},
   "outputs": [],
   "source": [
    "%%capture\n",
    "!wget \"https://repo1.maven.org/maven2/org/apache/spark/spark-sql-kafka-0-10_2.12/3.3.1/spark-sql-kafka-0-10_2.12-3.3.1.jar\"\n",
    "!wget \"https://repo1.maven.org/maven2/org/apache/spark/spark-streaming-kafka-0-10_2.12/3.1.3/spark-streaming-kafka-0-10_2.12-3.1.3.jar\""
   ]
  },
  {
   "cell_type": "code",
   "execution_count": 2,
   "id": "788d8181-5d2a-40b8-9ba4-90e71222d35d",
   "metadata": {},
   "outputs": [],
   "source": [
    "import os\n",
    "os.environ['PYSPARK_SUBMIT_ARGS'] = '--packages org.apache.spark:spark-streaming-kafka-0-10_2.12:3.1.3,org.apache.spark:spark-sql-kafka-0-10_2.12:3.3.1 pyspark-shell'"
   ]
  },
  {
   "cell_type": "code",
   "execution_count": 14,
   "id": "a9e0c1a4-d996-48c4-826b-6538236bcbce",
   "metadata": {},
   "outputs": [],
   "source": [
    "from pyspark.sql import SparkSession\n",
    "from pyspark.sql.functions import *\n",
    "from pyspark.sql.types import *"
   ]
  },
  {
   "cell_type": "code",
   "execution_count": 15,
   "id": "a4c43c88-4c84-449a-8309-64068bc3d95a",
   "metadata": {},
   "outputs": [],
   "source": [
    "spark = SparkSession.builder.appName(\"wordcount2\").master(\"local\").getOrCreate()\n",
    "customSchema = StructType() \\\n",
    " .add(\"timestamp\", StringType(), True) \\\n",
    " .add(\"value\", StringType(), True)\n"
   ]
  },
  {
   "cell_type": "code",
   "execution_count": 16,
   "id": "0e513582-20dd-4498-909a-690a1ccff7b0",
   "metadata": {},
   "outputs": [],
   "source": [
    "lines = spark \\\n",
    "    .readStream \\\n",
    "    .option(\"header\", True) \\\n",
    "    .schema(customSchema) \\\n",
    "    .csv(\"/home/jovyan/tmp/text\")"
   ]
  },
  {
   "cell_type": "code",
   "execution_count": 17,
   "id": "e9fec921-bb7e-42f5-bb2a-8e989e5e4166",
   "metadata": {},
   "outputs": [
    {
     "name": "stdout",
     "output_type": "stream",
     "text": [
      "root\n",
      " |-- timestamp: string (nullable = true)\n",
      " |-- value: string (nullable = true)\n",
      "\n"
     ]
    }
   ],
   "source": [
    "lines.printSchema()"
   ]
  },
  {
   "cell_type": "code",
   "execution_count": 18,
   "id": "f7c39d14-f4ad-4c3e-9022-25727a0eb97b",
   "metadata": {},
   "outputs": [
    {
     "data": {
      "text/plain": [
       "'lines = spark  \\t.readStream  \\t.format(\"csv\")  \\t.option(\"header\",True)     .schema(customSchema)  \\t.load(\"/home/jovyan/\")'"
      ]
     },
     "execution_count": 18,
     "metadata": {},
     "output_type": "execute_result"
    }
   ],
   "source": [
    "'''lines = spark \\\n",
    " \t.readStream \\\n",
    " \t.format(\"csv\") \\\n",
    " \t.option(\"header\",True) \\\n",
    "    .schema(customSchema) \\\n",
    " \t.load(\"/home/jovyan/\")'''\n"
   ]
  },
  {
   "cell_type": "code",
   "execution_count": 19,
   "id": "bb732a14-37b0-4ad6-a13f-3bcadd7b4b87",
   "metadata": {},
   "outputs": [],
   "source": [
    "#lines.printSchema()"
   ]
  },
  {
   "cell_type": "code",
   "execution_count": 20,
   "id": "69e6be83-635e-4c6d-a7da-98126ca63b47",
   "metadata": {},
   "outputs": [],
   "source": [
    " words = lines.select(\n",
    "        explode(split(lines.value, ' ')).alias('word'),\n",
    "        lines.timestamp\n",
    "    )"
   ]
  },
  {
   "cell_type": "code",
   "execution_count": 21,
   "id": "73c7bac3-9d18-4370-9ef8-f7c488cec5c1",
   "metadata": {},
   "outputs": [
    {
     "name": "stdout",
     "output_type": "stream",
     "text": [
      "root\n",
      " |-- word: string (nullable = false)\n",
      " |-- timestamp: string (nullable = true)\n",
      "\n"
     ]
    }
   ],
   "source": [
    "words.printSchema()"
   ]
  },
  {
   "cell_type": "code",
   "execution_count": 22,
   "id": "cc4849e3-cc51-43ea-95c3-7786c267cf36",
   "metadata": {},
   "outputs": [],
   "source": [
    " # Group the data by window and word and compute the count of each group\n",
    "windowedCounts = words.groupBy(\n",
    "    window(words.timestamp, \"10 minutes\",\"5 minutes\"),\n",
    "    words.word\n",
    ").count().orderBy('window')"
   ]
  },
  {
   "cell_type": "code",
   "execution_count": 23,
   "id": "bde915c5-2958-4797-b331-3c3693cd7b99",
   "metadata": {},
   "outputs": [
    {
     "name": "stdout",
     "output_type": "stream",
     "text": [
      "root\n",
      " |-- window: struct (nullable = true)\n",
      " |    |-- start: timestamp (nullable = true)\n",
      " |    |-- end: timestamp (nullable = true)\n",
      " |-- word: string (nullable = false)\n",
      " |-- count: long (nullable = false)\n",
      "\n"
     ]
    }
   ],
   "source": [
    "windowedCounts.printSchema()"
   ]
  },
  {
   "cell_type": "code",
   "execution_count": null,
   "id": "7ca5eef1-2803-4673-b85e-7de7c0124474",
   "metadata": {},
   "outputs": [],
   "source": [
    "# Start running the query that prints the windowed word counts to the console\n",
    "query = windowedCounts\\\n",
    "    .writeStream\\\n",
    "    .outputMode('complete')\\\n",
    "    .format('console')\\\n",
    "    .option('truncate', 'false')\\\n",
    "    .start()\n",
    "query.awaitTermination()"
   ]
  },
  {
   "cell_type": "code",
   "execution_count": null,
   "id": "45405902-f7ad-4247-b01e-6aa2958d1773",
   "metadata": {},
   "outputs": [],
   "source": []
  }
 ],
 "metadata": {
  "kernelspec": {
   "display_name": "Python 3 (ipykernel)",
   "language": "python",
   "name": "python3"
  },
  "language_info": {
   "codemirror_mode": {
    "name": "ipython",
    "version": 3
   },
   "file_extension": ".py",
   "mimetype": "text/x-python",
   "name": "python",
   "nbconvert_exporter": "python",
   "pygments_lexer": "ipython3",
   "version": "3.11.6"
  }
 },
 "nbformat": 4,
 "nbformat_minor": 5
}
