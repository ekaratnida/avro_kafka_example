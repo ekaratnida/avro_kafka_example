{
 "cells": [
  {
   "cell_type": "code",
   "execution_count": 1,
   "id": "53d1b93f-b9f9-40f2-9a4f-f5d5afdc591b",
   "metadata": {},
   "outputs": [],
   "source": [
    "#%%capture\n",
    "#!wget \"https://repo1.maven.org/maven2/org/apache/spark/spark-sql-kafka-0-10_2.12/3.3.1/spark-sql-kafka-0-10_2.12-3.3.1.jar\"\n",
    "#!wget \"https://repo1.maven.org/maven2/org/apache/spark/spark-streaming-kafka-0-10_2.12/3.1.3/spark-streaming-kafka-0-10_2.12-3.1.3.jar\""
   ]
  },
  {
   "cell_type": "code",
   "execution_count": 1,
   "id": "788d8181-5d2a-40b8-9ba4-90e71222d35d",
   "metadata": {},
   "outputs": [],
   "source": [
    "#import os\n",
    "#os.environ['PYSPARK_SUBMIT_ARGS'] = '--packages org.apache.spark:spark-streaming-kafka-0-10_2.12:3.1.3,org.apache.spark:spark-sql-kafka-0-10_2.12:3.3.1 pyspark-shell'"
   ]
  },
  {
   "cell_type": "code",
   "execution_count": 24,
   "id": "a9e0c1a4-d996-48c4-826b-6538236bcbce",
   "metadata": {},
   "outputs": [],
   "source": [
    "from pyspark.sql import SparkSession\n",
    "from pyspark.sql.functions import *\n",
    "from pyspark.sql.types import *"
   ]
  },
  {
   "cell_type": "code",
   "execution_count": 25,
   "id": "a4c43c88-4c84-449a-8309-64068bc3d95a",
   "metadata": {},
   "outputs": [],
   "source": [
    "spark = SparkSession.builder.appName(\"item_count\").master(\"local\").getOrCreate()\n",
    "#TimestampType\n",
    "customSchema = StructType() \\\n",
    " .add(\"timestamp\", TimestampType(), True) \\\n",
    " .add(\"value\", IntegerType(), True) \\\n",
    " .add(\"user_id\", StringType(), True)"
   ]
  },
  {
   "cell_type": "code",
   "execution_count": 26,
   "id": "0e513582-20dd-4498-909a-690a1ccff7b0",
   "metadata": {},
   "outputs": [],
   "source": [
    "lines = spark \\\n",
    "    .readStream \\\n",
    "    .option(\"header\", True) \\\n",
    "    .schema(customSchema) \\\n",
    "    .csv(\"/home/jovyan/tmp/text\")"
   ]
  },
  {
   "cell_type": "code",
   "execution_count": 27,
   "id": "e9fec921-bb7e-42f5-bb2a-8e989e5e4166",
   "metadata": {},
   "outputs": [
    {
     "name": "stdout",
     "output_type": "stream",
     "text": [
      "root\n",
      " |-- timestamp: timestamp (nullable = true)\n",
      " |-- value: integer (nullable = true)\n",
      " |-- user_id: string (nullable = true)\n",
      "\n"
     ]
    },
    {
     "data": {
      "text/plain": [
       "pyspark.sql.dataframe.DataFrame"
      ]
     },
     "execution_count": 27,
     "metadata": {},
     "output_type": "execute_result"
    }
   ],
   "source": [
    "lines.printSchema()\n",
    "type(lines)"
   ]
  },
  {
   "cell_type": "code",
   "execution_count": 28,
   "id": "65bb0ef6-9586-4c94-bc29-c7da25a4c299",
   "metadata": {},
   "outputs": [],
   "source": [
    "#lines = lines.withColumn(\"timestamp\",to_timestamp(col(\"timestamp\")))\n",
    "#lines.printSchema()"
   ]
  },
  {
   "cell_type": "code",
   "execution_count": 8,
   "id": "cc4849e3-cc51-43ea-95c3-7786c267cf36",
   "metadata": {},
   "outputs": [],
   "source": [
    "#1. Tumbling with count\n",
    "'''\n",
    "result = lines \\\n",
    "        .groupBy(window(lines.timestamp, \"5 minutes\")) \\\n",
    "        .count().orderBy(\"window\")\n",
    "'''"
   ]
  },
  {
   "cell_type": "code",
   "execution_count": 11,
   "id": "261fe489-2e1a-4ddf-a74f-c510204ef56d",
   "metadata": {},
   "outputs": [],
   "source": [
    "#2. Tumbling with sum\n",
    "'''\n",
    "result = lines \\\n",
    "        .groupBy(window(lines.timestamp, \"5 minutes\")) \\\n",
    "        .sum().orderBy(\"window\")\n",
    "'''"
   ]
  },
  {
   "cell_type": "code",
   "execution_count": 13,
   "id": "c8728ce5-9c8c-493c-94eb-250b1f403010",
   "metadata": {
    "scrolled": true
   },
   "outputs": [],
   "source": [
    "#3. Sliding with count\n",
    "'''\n",
    "result = lines \\\n",
    "        .groupBy(window(lines.timestamp, \"5 minutes\", \"3 minutes\")) \\\n",
    "        .count().orderBy(\"window\")\n",
    "'''"
   ]
  },
  {
   "cell_type": "code",
   "execution_count": 15,
   "id": "7c0c70cf-172b-46d9-b8ce-f1748d507555",
   "metadata": {},
   "outputs": [],
   "source": [
    "#4. Sliding with sum\n",
    "'''\n",
    "result = lines \\\n",
    "        .groupBy(window(lines.timestamp, \"5 minutes\", \"3 minutes\")) \\\n",
    "        .sum().orderBy(\"window\")\n",
    "'''"
   ]
  },
  {
   "cell_type": "code",
   "execution_count": 20,
   "id": "86a89db5-e798-4afe-b4cf-d8aad4cec04e",
   "metadata": {},
   "outputs": [],
   "source": [
    "#5 Session gap 2 mins with count\n",
    "'''\n",
    "result = lines \\\n",
    "    .groupBy(\"user_id\", session_window(lines.timestamp, \"5 minutes\")) \\\n",
    "    .count().orderBy(\"session_window\")\n",
    "'''"
   ]
  },
  {
   "cell_type": "code",
   "execution_count": 32,
   "id": "3cc93dff-9c9e-4445-9486-6f1ee8603ea9",
   "metadata": {},
   "outputs": [],
   "source": [
    "#6 Session gap 2 mins with sum\n",
    "\n",
    "result = lines \\\n",
    "    .groupBy(\"user_id\", session_window(lines.timestamp, \"10 minutes\")) \\\n",
    "    .sum('value').orderBy(\"session_window\")\n"
   ]
  },
  {
   "cell_type": "code",
   "execution_count": 30,
   "id": "b82b5d1a-1c1e-4bcd-979c-f4b3915cbe8e",
   "metadata": {},
   "outputs": [
    {
     "name": "stdout",
     "output_type": "stream",
     "text": [
      "root\n",
      " |-- user_id: string (nullable = true)\n",
      " |-- session_window: struct (nullable = false)\n",
      " |    |-- start: timestamp (nullable = true)\n",
      " |    |-- end: timestamp (nullable = true)\n",
      " |-- sum(value): long (nullable = true)\n",
      "\n"
     ]
    }
   ],
   "source": [
    "result.printSchema()"
   ]
  },
  {
   "cell_type": "code",
   "execution_count": 26,
   "id": "1aabdbb2-c6f2-4b50-9223-1aff5f592370",
   "metadata": {},
   "outputs": [],
   "source": [
    "#result2 = lines.filter(lines.value>2)"
   ]
  },
  {
   "cell_type": "code",
   "execution_count": 27,
   "id": "28a519ce-eda5-4e0e-87f5-af2e3df77bdc",
   "metadata": {},
   "outputs": [],
   "source": [
    "#result2.printSchema()"
   ]
  },
  {
   "cell_type": "code",
   "execution_count": null,
   "id": "7ca5eef1-2803-4673-b85e-7de7c0124474",
   "metadata": {},
   "outputs": [],
   "source": [
    "# Start running the query that prints the windowed word counts to the console\n",
    "query = result \\\n",
    "    .writeStream \\\n",
    "    .outputMode('complete') \\\n",
    "    .format('console') \\\n",
    "    .option('truncate', 'false') \\\n",
    "    .start()\n",
    "\n",
    "query.awaitTermination()"
   ]
  },
  {
   "cell_type": "code",
   "execution_count": null,
   "id": "a0cc32ec-80d5-424b-9479-df2e1bc449ac",
   "metadata": {},
   "outputs": [],
   "source": []
  },
  {
   "cell_type": "code",
   "execution_count": null,
   "id": "1d288662-23b0-4d67-bc10-4336a21da852",
   "metadata": {},
   "outputs": [],
   "source": []
  }
 ],
 "metadata": {
  "kernelspec": {
   "display_name": "Python 3 (ipykernel)",
   "language": "python",
   "name": "python3"
  },
  "language_info": {
   "codemirror_mode": {
    "name": "ipython",
    "version": 3
   },
   "file_extension": ".py",
   "mimetype": "text/x-python",
   "name": "python",
   "nbconvert_exporter": "python",
   "pygments_lexer": "ipython3",
   "version": "3.11.6"
  }
 },
 "nbformat": 4,
 "nbformat_minor": 5
}
