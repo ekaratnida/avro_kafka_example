{
 "cells": [
  {
   "cell_type": "code",
   "execution_count": 1,
   "id": "cfdb943b-e986-4d80-96fc-b7f705277e41",
   "metadata": {},
   "outputs": [],
   "source": [
    "#%%capture\n",
    "#!wget \"https://repo1.maven.org/maven2/org/apache/spark/spark-sql-kafka-0-10_2.12/3.5.0/spark-sql-kafka-0-10_2.12-3.5.0.jar\"\n",
    "#!wget \"https://repo1.maven.org/maven2/org/apache/spark/spark-streaming-kafka-0-10_2.12/3.5.0/spark-streaming-kafka-0-10_2.12-3.5.0.jar\"\n",
    "#!wget \"https://repo1.maven.org/maven2/org/apache/spark/spark-avro_2.12/3.5.0/spark-avro_2.12-3.5.0.jar\""
   ]
  },
  {
   "cell_type": "code",
   "execution_count": 2,
   "id": "4ef0dae0-8a63-49b6-aee8-36b928b9c4ca",
   "metadata": {},
   "outputs": [],
   "source": [
    "import os\n",
    "#os.environ['PYSPARK_SUBMIT_ARGS'] = '--packages org.apache.spark:spark-streaming-kafka-0-10_2.12:3.5.0,org.apache.spark:spark-sql-kafka-0-10_2.12:3.5.0 pyspark-shell'\n",
    "os.environ['PYSPARK_SUBMIT_ARGS'] = '--packages org.apache.spark:spark-streaming-kafka-0-10_2.12:3.5.0,org.apache.spark:spark-sql-kafka-0-10_2.12:3.5.0,org.apache.spark:spark-avro_2.12:3.5.0 pyspark-shell' "
   ]
  },
  {
   "cell_type": "code",
   "execution_count": 3,
   "id": "6ee72853-3c9f-4a4e-8e17-5b5b56f04819",
   "metadata": {},
   "outputs": [],
   "source": [
    "from pyspark.sql import SparkSession\n",
    "from pyspark.sql.functions import *\n",
    "from pyspark.sql.types import *\n",
    "import pyspark.sql.functions as func"
   ]
  },
  {
   "cell_type": "code",
   "execution_count": 4,
   "id": "00908761-bef5-4044-9ca6-954b79e80841",
   "metadata": {},
   "outputs": [],
   "source": [
    "#!pip install confluent_kafka"
   ]
  },
  {
   "cell_type": "code",
   "execution_count": 5,
   "id": "7fc17a32-b737-498b-8fdd-1f3d93c6b800",
   "metadata": {},
   "outputs": [],
   "source": [
    "from confluent_kafka.schema_registry import SchemaRegistryClient\n",
    "from pyspark.sql.avro.functions import from_avro, to_avro\n",
    "spark = SparkSession.builder.appName(\"readFromKafka\").master(\"local\").getOrCreate()"
   ]
  },
  {
   "cell_type": "code",
   "execution_count": 6,
   "id": "66dfaf82-4efd-4ee4-b56d-6a08386f5960",
   "metadata": {
    "scrolled": true
   },
   "outputs": [
    {
     "name": "stdout",
     "output_type": "stream",
     "text": [
      "root\n",
      " |-- key: binary (nullable = true)\n",
      " |-- value: binary (nullable = true)\n",
      " |-- topic: string (nullable = true)\n",
      " |-- partition: integer (nullable = true)\n",
      " |-- offset: long (nullable = true)\n",
      " |-- timestamp: timestamp (nullable = true)\n",
      " |-- timestampType: integer (nullable = true)\n",
      "\n"
     ]
    }
   ],
   "source": [
    "kafka_url = \"broker:29092\"\n",
    "kafka_topic = \"quickstart-jdbc-test\"\n",
    "schema_registry_url = \"http://schema-registry:8081\"\n",
    "schema_registry_subject = f\"{kafka_topic}-value\"\n",
    "\n",
    "df = spark \\\n",
    "  .readStream \\\n",
    "  .format(\"kafka\") \\\n",
    "  .option(\"kafka.bootstrap.servers\", kafka_url) \\\n",
    "  .option(\"subscribe\", kafka_topic) \\\n",
    "  .option(\"startingOffsets\", \"earliest\") \\\n",
    "  .load() \n",
    "df.printSchema()"
   ]
  },
  {
   "cell_type": "code",
   "execution_count": 7,
   "id": "67aca6e7-bd49-4f66-9dea-1f1c7d2070f8",
   "metadata": {},
   "outputs": [],
   "source": [
    "def get_schema_from_schema_registry(schema_registry_url, schema_registry_subject):\n",
    "    sr = SchemaRegistryClient({'url': schema_registry_url})\n",
    "    latest_version = sr.get_latest_version(schema_registry_subject)\n",
    "\n",
    "    return sr, latest_version"
   ]
  },
  {
   "cell_type": "code",
   "execution_count": 8,
   "id": "b4a4109b-0c0f-435b-9f7a-e8268b7f727d",
   "metadata": {},
   "outputs": [
    {
     "name": "stdout",
     "output_type": "stream",
     "text": [
      "root\n",
      " |-- magicByte: binary (nullable = true)\n",
      " |-- valueSchemaId: binary (nullable = true)\n",
      " |-- fixedValue: binary (nullable = true)\n",
      "\n"
     ]
    }
   ],
   "source": [
    "wikimedia_df = df.withColumn(\"magicByte\", func.expr(\"substring(value, 1, 1)\"))\n",
    "wikimedia_df = wikimedia_df.withColumn(\"valueSchemaId\", func.expr(\"substring(value, 2, 4)\"))\n",
    "wikimedia_df = wikimedia_df.withColumn(\"fixedValue\", func.expr(\"substring(value, 6, length(value)-5)\"))\n",
    "\n",
    "# creating a new df with magicBytes, valueSchemaId & fixedValue\n",
    "wikimedia_value_df = wikimedia_df.select(\"magicByte\", \"valueSchemaId\", \"fixedValue\")\n",
    "wikimedia_value_df.printSchema()"
   ]
  },
  {
   "cell_type": "code",
   "execution_count": 10,
   "id": "92df19ca-84ba-489f-9d8d-d8ab0cdf54d5",
   "metadata": {},
   "outputs": [
    {
     "name": "stdout",
     "output_type": "stream",
     "text": [
      "root\n",
      " |-- id: long (nullable = true)\n",
      " |-- name: string (nullable = true)\n",
      " |-- email: string (nullable = true)\n",
      " |-- department: string (nullable = true)\n",
      " |-- modified: timestamp (nullable = true)\n",
      "\n"
     ]
    }
   ],
   "source": [
    "# get schema using subject name\n",
    "_, latest_version_wikimedia = get_schema_from_schema_registry(schema_registry_url, schema_registry_subject)\n",
    "\n",
    "# deserialize data \n",
    "fromAvroOptions = {\"mode\":\"PERMISSIVE\"}\n",
    "decoded_output = wikimedia_value_df.select(from_avro(func.col(\"fixedValue\"), latest_version_wikimedia.schema.schema_str, fromAvroOptions).alias(\"wikimedia\")\n",
    ")\n",
    "wikimedia_value_df = decoded_output.select(\"wikimedia.*\")\n",
    "wikimedia_value_df.printSchema()"
   ]
  },
  {
   "cell_type": "code",
   "execution_count": null,
   "id": "f8c1385f-5ab9-406f-8965-197e95cc87d5",
   "metadata": {
    "scrolled": true
   },
   "outputs": [],
   "source": [
    "query = wikimedia_value_df \\\n",
    "    .writeStream \\\n",
    "    .outputMode(\"append\") \\\n",
    "    .format(\"console\") \\\n",
    "    .start()\n",
    "\n",
    "query.awaitTermination()"
   ]
  },
  {
   "cell_type": "code",
   "execution_count": null,
   "id": "917fed41-3067-49d2-9d1d-7b6dfca9d5b4",
   "metadata": {},
   "outputs": [],
   "source": []
  },
  {
   "cell_type": "code",
   "execution_count": null,
   "id": "018c0611-5c4f-4939-b610-1f8dab3bb5ea",
   "metadata": {},
   "outputs": [],
   "source": [
    "words = df.select(\n",
    "   explode(\n",
    "       split(df.value, \" \")\n",
    "   ).alias(\"word\"),\n",
    "   col(\"timestamp\")\n",
    ")\n",
    "wordCounts = words \\\n",
    "    .withWatermark(\"timestamp\", \"10 minutes\") \\\n",
    "    .groupBy(\"word\", \"timestamp\") \\\n",
    "    .count()"
   ]
  },
  {
   "cell_type": "code",
   "execution_count": null,
   "id": "3924375e-117e-405f-af58-784e46f91d59",
   "metadata": {},
   "outputs": [],
   "source": [
    "wordCounts.printSchema()"
   ]
  },
  {
   "cell_type": "code",
   "execution_count": null,
   "id": "06000a06-56c1-4f0e-8f07-06e84a7a8e3a",
   "metadata": {},
   "outputs": [],
   "source": [
    "#!pyspark --version"
   ]
  },
  {
   "cell_type": "code",
   "execution_count": null,
   "id": "1c7739a6-b88f-4d5c-9c2c-49c0648003bc",
   "metadata": {},
   "outputs": [],
   "source": [
    "'''query = df \\\n",
    "    .writeStream \\\n",
    "    .format(\"kafka\") \\\n",
    "    .option(\"kafka.bootstrap.servers\", \"192.168.1.107:8097\") \\\n",
    "    .option(\"topic\", \"output\") \\\n",
    "    .option(\"checkpointLocation\", \"checkpoint\") \\\n",
    "    .start() \n",
    "query.awaitTermination()'''"
   ]
  },
  {
   "cell_type": "code",
   "execution_count": null,
   "id": "ef968f1b-f0fb-4bd9-93fc-d9cf53efb257",
   "metadata": {},
   "outputs": [],
   "source": [
    "##query = df.selectExpr(\"CAST(key AS STRING)\", \"CAST(value AS STRING)\") \\\n",
    "query = wordCounts.selectExpr(\"CAST(word AS STRING) AS key\", \"CAST(count AS STRING)  AS value\") \\\n",
    "    .writeStream \\\n",
    "    .trigger(processingTime='1 seconds') \\\n",
    "    .format(\"kafka\") \\\n",
    "    .option(\"kafka.bootstrap.servers\", \"192.168.1.107:8097,192.168.1.107:8098,192.168.1.107:8099\") \\\n",
    "    .option(\"topic\", \"output\") \\\n",
    "    .option(\"checkpointLocation\", \"checkpoint\") \\\n",
    "    .start() \\\n",
    "    .awaitTermination()\n",
    "    #.awaitTermination()\n",
    "\n",
    "\n",
    "#query.awaitTermination()"
   ]
  },
  {
   "cell_type": "code",
   "execution_count": null,
   "id": "a8dbb79d-0926-4cdb-a1d1-dd51c2a0a7a0",
   "metadata": {},
   "outputs": [],
   "source": [
    "query = wordCounts.selectExpr(\"CAST(word AS STRING) AS key\", \"CAST(count AS STRING)  AS value\") \\\n",
    "    .writeStream \\\n",
    "    .outputMode(\"complete\") \\\n",
    "    .format(\"console\") \\\n",
    "    .start()\n",
    "\n",
    "query.awaitTermination()"
   ]
  }
 ],
 "metadata": {
  "kernelspec": {
   "display_name": "Python 3 (ipykernel)",
   "language": "python",
   "name": "python3"
  },
  "language_info": {
   "codemirror_mode": {
    "name": "ipython",
    "version": 3
   },
   "file_extension": ".py",
   "mimetype": "text/x-python",
   "name": "python",
   "nbconvert_exporter": "python",
   "pygments_lexer": "ipython3",
   "version": "3.11.6"
  }
 },
 "nbformat": 4,
 "nbformat_minor": 5
}
